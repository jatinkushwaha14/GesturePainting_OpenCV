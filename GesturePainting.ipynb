{
 "cells": [
  {
   "cell_type": "code",
   "execution_count": 1,
   "metadata": {},
   "outputs": [],
   "source": [
    "import cv2 as cv\n",
    "import mediapipe as mp\n",
    "import time\n",
    "import math\n",
    "import numpy as np"
   ]
  },
  {
   "cell_type": "code",
   "execution_count": 2,
   "metadata": {},
   "outputs": [],
   "source": [
    "def putcolor(img):\n",
    "    cv.rectangle(img,(0,0)             ,(int(w/4.0),int(h/8.0))    ,(255,0,0)    ,-1)#blue\n",
    "    cv.rectangle(img,(int(w/4.0),0)    ,(int(w/2.0),int(h/8.0))    ,(0,255,0)    ,-1)#green\n",
    "    cv.rectangle(img,(int(w/2.0),0)    ,(int((3*w)/4.0),int(h/8.0)),(0,0,255)    ,-1)#red\n",
    "    cv.rectangle(img,(int((3*w)/4.0),0),(w,int(h/8.0))             ,(255,255,255),-1)#white\n",
    "    cv.rectangle(img,(0,int(h/8.0)+1),(int(h/8.0),int((5*h)/8.0))  ,(255,255,255),-1)#whitesize\n",
    "    cv.rectangle(img,(0,int(h/8.0)+1),(int(h/8.0),int(h/4.0))      ,(0,0,0),2)\n",
    "    cv.rectangle(img,(0,int(h/4.0)),(int(h/8.0),int((3*h)/8.0))    ,(0,0,0),2)\n",
    "    cv.rectangle(img,(0,int((3*h)/8.0)),(int(h/8.0),int(h/2.0))    ,(0,0,0),2)\n",
    "    cv.rectangle(img,(0,int(h/2.0)),(int(h/8.0),int((5*h)/8.0))    ,(0,0,0),2)\n",
    "    cv.putText(img, \"10\",(25, 150), cv.FONT_HERSHEY_PLAIN,2,(0,0,0),3)\n",
    "    cv.putText(img, \"30\",(25, 240), cv.FONT_HERSHEY_PLAIN,2,(0,0,0),3)\n",
    "    cv.putText(img, \"50\",(25, 330), cv.FONT_HERSHEY_PLAIN,2,(0,0,0),3)\n",
    "    cv.putText(img, \"clear all\",(10, 410), cv.FONT_HERSHEY_PLAIN, 1,(0,0,0),1)\n",
    "    return img"
   ]
  },
  {
   "cell_type": "code",
   "execution_count": 3,
   "metadata": {},
   "outputs": [
    {
     "name": "stderr",
     "output_type": "stream",
     "text": [
      "WARNING: All log messages before absl::InitializeLog() is called are written to STDERR\n",
      "I0000 00:00:1718863136.494789 2175379 gl_context.cc:357] GL version: 2.1 (2.1 Metal - 88.1), renderer: Apple M1\n"
     ]
    }
   ],
   "source": [
    "mp_hands = mp.solutions.hands\n",
    "mp_draw = mp.solutions.drawing_utils\n",
    "hands = mp_hands.Hands(min_detection_confidence=0.75)"
   ]
  },
  {
   "cell_type": "code",
   "execution_count": 4,
   "metadata": {},
   "outputs": [
    {
     "name": "stderr",
     "output_type": "stream",
     "text": [
      "INFO: Created TensorFlow Lite XNNPACK delegate for CPU.\n",
      "W0000 00:00:1718863136.518028 2198143 inference_feedback_manager.cc:114] Feedback manager requires a model with a single signature inference. Disabling support for feedback tensors.\n",
      "W0000 00:00:1718863136.525332 2198149 inference_feedback_manager.cc:114] Feedback manager requires a model with a single signature inference. Disabling support for feedback tensors.\n",
      "/Users/jatinkushwaha/anaconda3/envs/venv-metal/lib/python3.11/site-packages/google/protobuf/symbol_database.py:55: UserWarning: SymbolDatabase.GetPrototype() is deprecated. Please use message_factory.GetMessageClass() instead. SymbolDatabase.GetPrototype() will be removed soon.\n",
      "  warnings.warn('SymbolDatabase.GetPrototype() is deprecated. Please '\n"
     ]
    },
    {
     "ename": "",
     "evalue": "",
     "output_type": "error",
     "traceback": [
      "\u001b[1;31mThe Kernel crashed while executing code in the current cell or a previous cell. \n",
      "\u001b[1;31mPlease review the code in the cell(s) to identify a possible cause of the failure. \n",
      "\u001b[1;31mClick <a href='https://aka.ms/vscodeJupyterKernelCrash'>here</a> for more info. \n",
      "\u001b[1;31mView Jupyter <a href='command:jupyter.viewOutput'>log</a> for further details."
     ]
    }
   ],
   "source": [
    "cap = cv.VideoCapture(0)\n",
    "_ , frame= cap.read()\n",
    "x,y,z=frame.shape\n",
    "t0=0\n",
    "xs,ys=0,0\n",
    "blank_image=np.zeros((x, y, z), np.uint8)\n",
    "brushcolor=(255,0,0)\n",
    "size=10\n",
    "while True:\n",
    "    success, img = cap.read()\n",
    "    img=cv.resize(img,(1280, 720))\n",
    "    img=cv.flip(img,1)\n",
    "    imgRGB=cv.cvtColor(img, cv.COLOR_BGR2RGB)\n",
    "    results = hands.process(imgRGB)\n",
    "    h,w,c = img.shape\n",
    "    #h720,w1280\n",
    "    img=putcolor(img)\n",
    "    if results.multi_hand_landmarks: \n",
    "        for hand_landmarks in results.multi_hand_landmarks:\n",
    "            x4,y4=(int(hand_landmarks.landmark[4].x*w),int(hand_landmarks.landmark[4].y*h))\n",
    "            x8,y8=(int(hand_landmarks.landmark[8].x*w),int(hand_landmarks.landmark[8].y*h))\n",
    "            dist=math.hypot(x4-x8,y4-y8)\n",
    "            if(dist<75):\n",
    "                xs,ys=0,0\n",
    "                cv.circle(img,(int((x4+x8)/2),int((y4+y8)/2)),size+2,(255,255,255),cv.FILLED)\n",
    "                cv.circle(img,(int((x4+x8)/2),int((y4+y8)/2)),size,brushcolor,cv.FILLED)\n",
    "                x,y=int((x4+x8)/2), int((y4+y8)/2)\n",
    "                if 0<=x<=(int(w/4.0)) and 0<=y<=int(h/8.0):\n",
    "                    brushcolor=(255,0,0)\n",
    "                elif int(w/4.0)<=x<=int(w/2.0) and 0<=y<=int(h/8.0):\n",
    "                    brushcolor=(0,255,0)\n",
    "                elif int(w/2.0)<=x<=int((3*w)/4.0) and 0<=y<=int(h/8.0):\n",
    "                    brushcolor=(0,0,255)\n",
    "                elif int((3*w)/4.0)<=x<=w and 0<=y<=int(h/8.0):\n",
    "                    brushcolor=(0,0,0)\n",
    "                elif 0<=x<=int(h/8.0) and int(h/8.0)+1 <= y <= int(h/4.0):\n",
    "                    size=10\n",
    "                elif 0<= x <=int(h/8.0) and int(h/4.0) <= y <=int((3*h)/8.0):\n",
    "                    size=30\n",
    "                elif 0<= x <=int(h/8.0) and int((3*h)/8.0)<= y <= int(h/2.0):\n",
    "                    size=50\n",
    "                elif 0<= x <=int(h/8.0) and int(h/2.0)<= y <=int((5*h)/8.0):\n",
    "                    blank_image=np.zeros((720,1280, z), np.uint8)\n",
    "            else:\n",
    "                if(xs==0 & ys==0):\n",
    "                    xs,ys=x8,y8\n",
    "                cv.circle(img,(xs,ys),size,brushcolor,cv.FILLED)\n",
    "                cv.line(blank_image,(xs,ys),(x8, y8),brushcolor,size,cv.FILLED)\n",
    "                xs,ys=x8,y8\n",
    "            cv.line(img,(x8,y8-3),(x8, y8+3),(255,255,255),2,cv.FILLED)\n",
    "            cv.line(img,(x8-3,y8),(x8+3, y8),(255,255,255),2,cv.FILLED)\n",
    "    t1=time.time()\n",
    "    cv.putText(img, str(int(1/(t1 - t0)))+ \"fps\", (20, 700), cv.FONT_HERSHEY_PLAIN, 2,(255,255,255),3)\n",
    "    t0=t1\n",
    "    imgray=cv.cvtColor(blank_image,cv.COLOR_BGR2GRAY)\n",
    "    _,imgInv = cv.threshold(imgray, 0, 255, cv.THRESH_BINARY_INV)\n",
    "    imgInv=cv.cvtColor(imgInv,cv.COLOR_GRAY2BGR)\n",
    "    img=cv.bitwise_and(img,imgInv)\n",
    "    img=cv.bitwise_or(img,blank_image)\n",
    "    cv.imshow(\"Video\", img)\n",
    "    if cv.waitKey(1) & 0xFF == ord('q'):\n",
    "        break\n",
    "cap.release()\n",
    "cv.destroyAllWindows()\n"
   ]
  },
  {
   "cell_type": "code",
   "execution_count": null,
   "metadata": {},
   "outputs": [],
   "source": []
  }
 ],
 "metadata": {
  "kernelspec": {
   "display_name": "venv-metal",
   "language": "python",
   "name": "python3"
  },
  "language_info": {
   "codemirror_mode": {
    "name": "ipython",
    "version": 3
   },
   "file_extension": ".py",
   "mimetype": "text/x-python",
   "name": "python",
   "nbconvert_exporter": "python",
   "pygments_lexer": "ipython3",
   "version": "3.11.5"
  }
 },
 "nbformat": 4,
 "nbformat_minor": 2
}
